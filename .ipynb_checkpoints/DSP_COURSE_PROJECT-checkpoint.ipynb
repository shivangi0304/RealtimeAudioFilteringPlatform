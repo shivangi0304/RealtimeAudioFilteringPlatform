{
 "cells": [
  {
   "cell_type": "code",
   "execution_count": 3,
   "metadata": {},
   "outputs": [],
   "source": [
    "import matplotlib.pyplot as plt\n",
    "import numpy as np\n",
    "import wave\n",
    "import sys\n",
    "import pyaudio\n",
    "import scipy"
   ]
  },
  {
   "cell_type": "code",
   "execution_count": 6,
   "metadata": {},
   "outputs": [],
   "source": [
    "#LCCDE coeffs\n",
    "print('I am assuming that this system is LTI\\n')\n",
    "y_k = []\n",
    "x_m = []\n",
    "\n"
   ]
  },
  {
   "cell_type": "code",
   "execution_count": 21,
   "metadata": {},
   "outputs": [
    {
     "name": "stdout",
     "output_type": "stream",
     "text": [
      "Enter number of zeros: 2\n",
      "1\n",
      "2\n",
      "Enter number of poles: 2\n",
      "-1\n",
      "-2\n"
     ]
    }
   ],
   "source": [
    "#poles-zeros of H(z)\n",
    "zeros = []\n",
    "poles = []\n",
    "a = int(input('Enter number of zeros: '))\n",
    "for i in range(0, a):\n",
    "    p = int(input())\n",
    "    zeros.append(p) #append the ith zero to the list of zeros\n",
    "    \n",
    "b = int(input('Enter number of poles: '))\n",
    "for j in range(0, b):\n",
    "    k = int(input())\n",
    "    poles.append(k) #append the jth pole to the list of poles\n"
   ]
  },
  {
   "cell_type": "code",
   "execution_count": 20,
   "metadata": {},
   "outputs": [
    {
     "name": "stdout",
     "output_type": "stream",
     "text": [
      "What is the length of your impulse response h[n]? : 4\n",
      "Please enter the values of h[t], starting from 0 and going to N-1:\n",
      "\n",
      "1\n",
      "2\n",
      "3\n",
      "4\n",
      "h[n] =  [1, 2, 3, 4]\n",
      "[1, 2, 3, 4]\n"
     ]
    }
   ],
   "source": [
    "#impulse response\n",
    "N = int(input('What is the length of your impulse response h[n]? : '))\n",
    "h_n = []\n",
    "print('Please enter the values of h[t], starting from 0 and going to N-1:\\n')\n",
    "for i in range(0, N):\n",
    "    p = int(input())\n",
    "    h_n.append(p) #append the ith impulse to the list of impulses\n",
    "     \n",
    "print('h[n] = ', h_n)"
   ]
  },
  {
   "cell_type": "code",
   "execution_count": 4,
   "metadata": {},
   "outputs": [
    {
     "name": "stdout",
     "output_type": "stream",
     "text": [
      "Please enter your namehi\n"
     ]
    }
   ],
   "source": [
    "#ask for name, to personalize the user experience\n",
    "user_name = input('Please enter your name')"
   ]
  },
  {
   "cell_type": "code",
   "execution_count": 24,
   "metadata": {},
   "outputs": [
    {
     "name": "stdout",
     "output_type": "stream",
     "text": [
      "Hello hi \n",
      "Thanks for using my audio filtering platform :)\n",
      "Let's get started!\n",
      "\n",
      "Would you like to design your own filter using,\n",
      "A. LCCDE coefficients?\n",
      "B. poles and zeros of transfer function H(z)?\n",
      "C. impulse response h[n]?\n",
      "A\n"
     ]
    }
   ],
   "source": [
    "print(\"Hello\",user_name,\"\\nThanks for using my audio filtering platform :)\")\n",
    "print(\"Let's get started!\\n\")\n",
    "\n",
    "#ask the user what type of input they want to use\n",
    "option = input(\"Would you like to design your own filter using,\\nA. LCCDE coefficients?\\nB. poles and zeros of transfer function H(z)?\\nC. impulse response h[n]?\\n\")"
   ]
  },
  {
   "cell_type": "code",
   "execution_count": 25,
   "metadata": {},
   "outputs": [
    {
     "name": "stdout",
     "output_type": "stream",
     "text": [
      "Cool! lesgoooo\n"
     ]
    }
   ],
   "source": [
    "#main block for constructing the filter\n",
    "if option == 'A' or option == 'a':\n",
    "    print(\"Cool! lesgoooo\")\n",
    "elif option == 'B' or option == 'b':\n",
    "    print(\"Oh, option B it is\")\n",
    "elif option == 'C' or option == 'c':\n",
    "    print(\"Cool cool\")\n",
    "else:\n",
    "    option = input('Enter a valid option (A/B/C)')"
   ]
  },
  {
   "cell_type": "code",
   "execution_count": 11,
   "metadata": {},
   "outputs": [
    {
     "name": "stdout",
     "output_type": "stream",
     "text": [
      "Oh wait, let's start with taking your audio input\n",
      "Run the next cell to give input\n"
     ]
    }
   ],
   "source": [
    "print(\"Oh wait, let's start with taking your audio input\\nRun the next cell to give input\")"
   ]
  },
  {
   "cell_type": "code",
   "execution_count": 27,
   "metadata": {},
   "outputs": [
    {
     "name": "stdout",
     "output_type": "stream",
     "text": [
      "Do you want to save your audio in a new file (could be useful for offline processing? (Y/N)\n",
      "y\n",
      "How long do you want the input to be (in seconds)?\n",
      "4\n"
     ]
    }
   ],
   "source": [
    "save_rep = input('Do you want to save your audio in a new file (could be useful for offline processing? (Y/N)\\n')\n",
    "if save_rep == 'Y' or save_rep == 'y':\n",
    "    WAVE_OUTPUT_FILENAME = input('What do you want the audio file name to be? {format: <entername>.wav}\\n ')\n",
    "else:\n",
    "    WAVE_OUTPUT_FILENAME = \"output.wav\"\n",
    "secs = int(input(\"How long do you want the input to be (in seconds)?\\n\")) "
   ]
  },
  {
   "cell_type": "code",
   "execution_count": 13,
   "metadata": {},
   "outputs": [
    {
     "name": "stdout",
     "output_type": "stream",
     "text": [
      "* recording\n",
      "Audio recorded!\n",
      "Want to listen to your raw input? (Y/N)\n",
      "y\n",
      "Here's a plot of your raw input!\n"
     ]
    },
    {
     "name": "stderr",
     "output_type": "stream",
     "text": [
      "/home/randomshit/.local/lib/python3.6/site-packages/ipykernel_launcher.py:49: DeprecationWarning: Numeric-style type codes are deprecated and will result in an error in the future.\n",
      "/home/randomshit/.local/lib/python3.6/site-packages/ipykernel_launcher.py:49: DeprecationWarning: The binary mode of fromstring is deprecated, as it behaves surprisingly on unicode inputs. Use frombuffer instead\n"
     ]
    },
    {
     "data": {
      "text/plain": [
       "[<matplotlib.lines.Line2D at 0x7fe9e00cf5f8>]"
      ]
     },
     "execution_count": 13,
     "metadata": {},
     "output_type": "execute_result"
    },
    {
     "data": {
      "image/png": "[encoded data removed]",
      "text/plain": [
       "<Figure size 432x288 with 1 Axes>"
      ]
     },
     "metadata": {
      "needs_background": "light"
     },
     "output_type": "display_data"
    }
   ],
   "source": [
    "CHUNK = 1024\n",
    "FORMAT = pyaudio.paInt16\n",
    "CHANNELS = 1\n",
    "RATE = 44100\n",
    "RECORD_SECONDS = secs\n",
    "\n",
    "p = pyaudio.PyAudio()\n",
    "\n",
    "stream = p.open(format=FORMAT,\n",
    "                channels=CHANNELS,\n",
    "                rate=RATE,\n",
    "                input=True,\n",
    "                frames_per_buffer=CHUNK)\n",
    "\n",
    "print(\"* recording\")\n",
    "\n",
    "frames = []\n",
    "\n",
    "for i in range(0, int(RATE / CHUNK * RECORD_SECONDS)):\n",
    "    data = stream.read(CHUNK)\n",
    "    frames.append(data)\n",
    "\n",
    "print(\"Audio recorded!\")\n",
    "\n",
    "stream.stop_stream()\n",
    "stream.close()\n",
    "p.terminate()\n",
    "\n",
    "wf = wave.open(WAVE_OUTPUT_FILENAME, 'wb')\n",
    "wf.setnchannels(CHANNELS)\n",
    "wf.setsampwidth(p.get_sample_size(FORMAT))\n",
    "wf.setframerate(RATE)\n",
    "wf.writeframes(b''.join(frames))\n",
    "wf.close()\n",
    "\n",
    "#sleep for a few secs?\n",
    "\n",
    "play = input(\"Want to listen to your raw input? (Y/N)\\n\")\n",
    "\n",
    "#if play == 'Y' or play == 'y':\n",
    "    #play audio code here\n",
    "\n",
    "#sleep\n",
    "print(\"Here's a plot of your raw input!\")\n",
    "spf = wave.open(WAVE_OUTPUT_FILENAME, 'r')\n",
    "\n",
    "#Extract Raw Audio from Wav File\n",
    "signal = spf.readframes(-1)\n",
    "signal = np.fromstring(signal, 'Int16')\n",
    "\n",
    "plt.figure(1)\n",
    "plt.title('Signal Wave...')\n",
    "plt.plot(signal)\n",
    "\n"
   ]
  },
  {
   "cell_type": "code",
   "execution_count": 22,
   "metadata": {},
   "outputs": [
    {
     "ename": "KeyboardInterrupt",
     "evalue": "",
     "output_type": "error",
     "traceback": [
      "\u001b[0;31m---------------------------------------------------------------------------\u001b[0m",
      "\u001b[0;31mKeyboardInterrupt\u001b[0m                         Traceback (most recent call last)",
      "\u001b[0;32m<ipython-input-22-6c7edfcbaaa9>\u001b[0m in \u001b[0;36m<module>\u001b[0;34m\u001b[0m\n\u001b[1;32m     23\u001b[0m \u001b[0;31m# Play the sound by writing the audio data to the stream\u001b[0m\u001b[0;34m\u001b[0m\u001b[0;34m\u001b[0m\u001b[0;34m\u001b[0m\u001b[0m\n\u001b[1;32m     24\u001b[0m \u001b[0;32mwhile\u001b[0m \u001b[0mdata\u001b[0m \u001b[0;34m!=\u001b[0m \u001b[0;34m''\u001b[0m\u001b[0;34m:\u001b[0m\u001b[0;34m\u001b[0m\u001b[0;34m\u001b[0m\u001b[0m\n\u001b[0;32m---> 25\u001b[0;31m     \u001b[0mstream\u001b[0m\u001b[0;34m.\u001b[0m\u001b[0mwrite\u001b[0m\u001b[0;34m(\u001b[0m\u001b[0mdata\u001b[0m\u001b[0;34m)\u001b[0m\u001b[0;34m\u001b[0m\u001b[0;34m\u001b[0m\u001b[0m\n\u001b[0m\u001b[1;32m     26\u001b[0m     \u001b[0mdata\u001b[0m \u001b[0;34m=\u001b[0m \u001b[0mwf\u001b[0m\u001b[0;34m.\u001b[0m\u001b[0mreadframes\u001b[0m\u001b[0;34m(\u001b[0m\u001b[0mchunk\u001b[0m\u001b[0;34m)\u001b[0m\u001b[0;34m\u001b[0m\u001b[0;34m\u001b[0m\u001b[0m\n\u001b[1;32m     27\u001b[0m \u001b[0;34m\u001b[0m\u001b[0m\n",
      "\u001b[0;32m/usr/lib/python3/dist-packages/pyaudio.py\u001b[0m in \u001b[0;36mwrite\u001b[0;34m(self, frames, num_frames, exception_on_underflow)\u001b[0m\n\u001b[1;32m    580\u001b[0m             \u001b[0;31m# determine how many frames to read\u001b[0m\u001b[0;34m\u001b[0m\u001b[0;34m\u001b[0m\u001b[0;34m\u001b[0m\u001b[0m\n\u001b[1;32m    581\u001b[0m             \u001b[0mwidth\u001b[0m \u001b[0;34m=\u001b[0m \u001b[0mget_sample_size\u001b[0m\u001b[0;34m(\u001b[0m\u001b[0mself\u001b[0m\u001b[0;34m.\u001b[0m\u001b[0m_format\u001b[0m\u001b[0;34m)\u001b[0m\u001b[0;34m\u001b[0m\u001b[0;34m\u001b[0m\u001b[0m\n\u001b[0;32m--> 582\u001b[0;31m             \u001b[0mnum_frames\u001b[0m \u001b[0;34m=\u001b[0m \u001b[0mint\u001b[0m\u001b[0;34m(\u001b[0m\u001b[0mlen\u001b[0m\u001b[0;34m(\u001b[0m\u001b[0mframes\u001b[0m\u001b[0;34m)\u001b[0m \u001b[0;34m/\u001b[0m \u001b[0;34m(\u001b[0m\u001b[0mself\u001b[0m\u001b[0;34m.\u001b[0m\u001b[0m_channels\u001b[0m \u001b[0;34m*\u001b[0m \u001b[0mwidth\u001b[0m\u001b[0;34m)\u001b[0m\u001b[0;34m)\u001b[0m\u001b[0;34m\u001b[0m\u001b[0;34m\u001b[0m\u001b[0m\n\u001b[0m\u001b[1;32m    583\u001b[0m             \u001b[0;31m#print len(frames), self._channels, self._width, num_frames\u001b[0m\u001b[0;34m\u001b[0m\u001b[0;34m\u001b[0m\u001b[0;34m\u001b[0m\u001b[0m\n\u001b[1;32m    584\u001b[0m \u001b[0;34m\u001b[0m\u001b[0m\n",
      "\u001b[0;31mKeyboardInterrupt\u001b[0m: "
     ]
    }
   ],
   "source": [
    "#function for playing audio\n",
    "filename = WAVE_OUTPUT_FILENAME\n",
    "\n",
    "# Set chunk size of 1024 samples per data frame\n",
    "chunk = 1024  \n",
    "\n",
    "# Open the sound file \n",
    "wf = wave.open(filename, 'rb')\n",
    "\n",
    "# Create an interface to PortAudio\n",
    "p = pyaudio.PyAudio()\n",
    "\n",
    "# Open a .Stream object to write the WAV file to\n",
    "# 'output = True' indicates that the sound will be played rather than recorded\n",
    "stream = p.open(format = p.get_format_from_width(wf.getsampwidth()),\n",
    "                channels = wf.getnchannels(),\n",
    "                rate = wf.getframerate(),\n",
    "                output = True)\n",
    "\n",
    "# Read data in chunks\n",
    "data = wf.readframes(chunk)\n",
    "\n",
    "# Play the sound by writing the audio data to the stream\n",
    "while data != '':\n",
    "    stream.write(data)\n",
    "    data = wf.readframes(chunk)\n",
    "\n",
    "# Close and terminate the stream\n",
    "stream.close()\n",
    "p.terminate()"
   ]
  },
  {
   "cell_type": "code",
   "execution_count": null,
   "metadata": {},
   "outputs": [],
   "source": []
  }
 ],
 "metadata": {
  "kernelspec": {
   "display_name": "Python 3",
   "language": "python",
   "name": "python3"
  },
  "language_info": {
   "codemirror_mode": {
    "name": "ipython",
    "version": 3
   },
   "file_extension": ".py",
   "mimetype": "text/x-python",
   "name": "python",
   "nbconvert_exporter": "python",
   "pygments_lexer": "ipython3",
   "version": "3.6.9"
  }
 },
 "nbformat": 4,
 "nbformat_minor": 2
}
