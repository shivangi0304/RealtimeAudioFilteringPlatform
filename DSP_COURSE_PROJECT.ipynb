{
 "cells": [
  {
   "cell_type": "code",
   "execution_count": 163,
   "metadata": {},
   "outputs": [],
   "source": [
    "import matplotlib.pyplot as plt\n",
    "import numpy as np\n",
    "import wave\n",
    "import sys\n",
    "import pyaudio\n",
    "import sympy\n",
    "from sympy import symbols\n",
    "from sympy.functions import arg\n",
    "z = symbols('z')"
   ]
  },
  {
   "cell_type": "code",
   "execution_count": 154,
   "metadata": {},
   "outputs": [],
   "source": [
    "from sympy.utilities.lambdify import lambdify\n",
    "def evalHz(Hz,w):\n",
    "    func = lambdify(z,Hz,'numpy')\n",
    "    return func(np.exp(1j*w))"
   ]
  },
  {
   "cell_type": "code",
   "execution_count": 155,
   "metadata": {},
   "outputs": [],
   "source": [
    "def playAudio(filename):\n",
    "    # Set chunk size of 1024 samples per data frame\n",
    "    chunk = 1024  \n",
    "\n",
    "    # Open the sound file \n",
    "    wf = wave.open(filename, 'rb')\n",
    "\n",
    "    # Create an interface to PortAudio\n",
    "    p = pyaudio.PyAudio()\n",
    "\n",
    "    # Open a .Stream object to write the WAV file to\n",
    "    # 'output = True' indicates that the sound will be played rather than recorded\n",
    "    stream = p.open(format = p.get_format_from_width(wf.getsampwidth()),\n",
    "                    channels = wf.getnchannels(),\n",
    "                    rate = wf.getframerate(),\n",
    "                    output = True)\n",
    "\n",
    "    # Read data in chunks\n",
    "    data = wf.readframes(chunk)\n",
    "\n",
    "    # Play the sound by writing the audio data to the stream\n",
    "    while data != '':\n",
    "        stream.write(data)\n",
    "        data = wf.readframes(chunk)\n",
    "\n",
    "    # Close and terminate the stream\n",
    "    stream.close()\n",
    "    p.terminate()"
   ]
  },
  {
   "cell_type": "code",
   "execution_count": 156,
   "metadata": {},
   "outputs": [],
   "source": [
    "def recordAudio():\n",
    "    save_rep = input('Do you want to save your audio in a new file (could be useful for offline processing? (Y/N)\\n')\n",
    "    if save_rep == 'Y' or save_rep == 'y':\n",
    "        filename = input('What do you want the audio file name to be? {format: <entername>.wav}\\n ')\n",
    "    else:\n",
    "        filename = \"input.wav\"\n",
    "    secs = int(input(\"How long do you want the input to be (in seconds)?\\n\")) \n",
    "    CHUNK = 1024\n",
    "    FORMAT = pyaudio.paInt16\n",
    "    CHANNELS = 1\n",
    "    RATE = 44100\n",
    "    RECORD_SECONDS = secs\n",
    "    WAVE_OUTPUT_FILENAME = filename\n",
    "    p = pyaudio.PyAudio()\n",
    "\n",
    "    stream = p.open(format=FORMAT,\n",
    "                    channels=CHANNELS,\n",
    "                    rate=RATE,\n",
    "                    input=True,\n",
    "                    frames_per_buffer=CHUNK)\n",
    "\n",
    "    print(\"* recording\")\n",
    "\n",
    "    frames = []\n",
    "\n",
    "    for i in range(0, int(RATE / CHUNK * RECORD_SECONDS)):\n",
    "        data = stream.read(CHUNK)\n",
    "        frames.append(data)\n",
    "        \n",
    "\n",
    "    print(\"Audio recorded!\")\n",
    "\n",
    "    stream.stop_stream()\n",
    "    stream.close()\n",
    "    p.terminate()\n",
    "\n",
    "    wf = wave.open(WAVE_OUTPUT_FILENAME, 'wb')\n",
    "    wf.setnchannels(CHANNELS)\n",
    "    wf.setsampwidth(p.get_sample_size(FORMAT))\n",
    "    wf.setframerate(RATE)\n",
    "    wf.writeframes(b''.join(frames))\n",
    "    wf.close()\n",
    "\n",
    "    spf = wave.open(WAVE_OUTPUT_FILENAME, 'r')\n",
    "\n",
    "    #Extract Raw Audio from Wav File\n",
    "    signal = spf.readframes(-1)\n",
    "    signal = np.fromstring(signal, 'Int16')\n",
    "\n",
    "    return signal"
   ]
  },
  {
   "cell_type": "code",
   "execution_count": 167,
   "metadata": {},
   "outputs": [],
   "source": [
    "#LCCDE coeffs\n",
    "def HzLCCDE():\n",
    "    print('I am assuming that this system is LTI\\n')\n",
    "    a_k = []\n",
    "    b_m = []\n",
    "    Nz = 0\n",
    "    Dz = 0\n",
    "    ylen = int(input('Enter lenght of y[k] (starting with y[n] and going up to the last non-zero coeff of y[k]): '))\n",
    "    for i in range(0, ylen):\n",
    "        p = int(input())\n",
    "        a_k.append(p) #append the ith coeff of y[k] to the list of coeffs of y[k]\n",
    "        Dz += p*z**(-1*i) \n",
    "    \n",
    "    xlen = int(input('Enter lenght of x[m] (starting with x[n] and going up to the last non-zero coeff of x[m]): '))\n",
    "    for i in range(0, xlen):\n",
    "        p = int(input())\n",
    "        b_m.append(p) #append the ith coeff of x[m] to thr list of coeffs of x[m]\n",
    "        Nz += p*z**(-1*i)\n",
    "        \n",
    "    Hz = Nz/Dz\n",
    "    return Hz\n",
    "    "
   ]
  },
  {
   "cell_type": "code",
   "execution_count": 168,
   "metadata": {},
   "outputs": [],
   "source": [
    "#poles-zeros of H(z)\n",
    "def HzPoleZero():\n",
    "    zeros = []\n",
    "    poles = []\n",
    "    Hz = 1\n",
    "    a = int(input('Enter number of zeros: '))\n",
    "    for i in range(0, a):\n",
    "        p = complex(input())\n",
    "        Hz *= (z-p)\n",
    "        zeros.append(p) #append the ith zero to the list of zeros\n",
    "\n",
    "    b = int(input('Enter number of poles: '))\n",
    "    for j in range(0, b):\n",
    "        k = complex(input())\n",
    "        Hz /= (z-k)\n",
    "        poles.append(k) #append the jth pole to the list of poles\n",
    "    return Hz\n"
   ]
  },
  {
   "cell_type": "code",
   "execution_count": 169,
   "metadata": {},
   "outputs": [],
   "source": [
    "#impulse response\n",
    "def HzImpulseResponse():\n",
    "    N = int(input('What is the length of your impulse response h[n]? : '))\n",
    "    h_n = []\n",
    "    Hz = 0\n",
    "    print('Please enter the values of h[t], starting from 0 and going to N-1:\\n')\n",
    "    for i in range(0, N):\n",
    "        p = int(input())\n",
    "        h_n.append(p) #append the ith impulse to the list of impulses\n",
    "        Hz += p*z**(-1*i)\n",
    "    return Hz\n",
    "    "
   ]
  },
  {
   "cell_type": "code",
   "execution_count": 175,
   "metadata": {},
   "outputs": [
    {
     "name": "stdout",
     "output_type": "stream",
     "text": [
      "Please enter your name:\n",
      "Shivangi\n",
      "Hey Shivangi !\n",
      "Thanks for using my audio filtering platform!\n",
      "Let's start by designing our filter\n",
      "\n",
      "Would you like to design your own filter using,\n",
      "A. LCCDE coefficients?\n",
      "B. poles and zeros of transfer function H(z)?\n",
      "C. impulse response h[n]?\n",
      "C\n"
     ]
    }
   ],
   "source": [
    "#ask for name, to personalize the user experience\n",
    "user_name = input('Please enter your name:\\n')\n",
    "print('Hey',user_name,'!')\n",
    "print('Thanks for using my audio filtering platform!')\n",
    "print(\"Let's start by designing our filter\\n\")\n",
    "#ask the user what type of input they want to use\n",
    "option = input(\"Would you like to design your own filter using,\\nA. LCCDE coefficients?\\nB. poles and zeros of transfer function H(z)?\\nC. impulse response h[n]?\\n\")"
   ]
  },
  {
   "cell_type": "code",
   "execution_count": 176,
   "metadata": {},
   "outputs": [
    {
     "name": "stdout",
     "output_type": "stream",
     "text": [
      "What is the length of your impulse response h[n]? : 5\n",
      "Please enter the values of h[t], starting from 0 and going to N-1:\n",
      "\n",
      "1\n",
      "2\n",
      "1\n",
      "2\n",
      "1\n",
      "1 + 2/z + z**(-2) + 2/z**3 + z**(-4)\n"
     ]
    }
   ],
   "source": [
    "#main block for constructing the filter\n",
    "Hz = 1\n",
    "if option == 'A' or option == 'a':\n",
    "    Hz = HzLCCDE()\n",
    "elif option == 'B' or option == 'b':\n",
    "    Hz = HzPoleZero()\n",
    "elif option == 'C' or option == 'c':\n",
    "    Hz = HzImpulseResponse()\n",
    "else:\n",
    "    option = input('Enter a valid option (A/B/C)')\n",
    "print(Hz)"
   ]
  },
  {
   "cell_type": "code",
   "execution_count": null,
   "metadata": {},
   "outputs": [],
   "source": []
  }
 ],
 "metadata": {
  "kernelspec": {
   "display_name": "Python 3",
   "language": "python",
   "name": "python3"
  },
  "language_info": {
   "codemirror_mode": {
    "name": "ipython",
    "version": 3
   },
   "file_extension": ".py",
   "mimetype": "text/x-python",
   "name": "python",
   "nbconvert_exporter": "python",
   "pygments_lexer": "ipython3",
   "version": "3.6.9"
  }
 },
 "nbformat": 4,
 "nbformat_minor": 2
}
