{
 "cells": [
  {
   "cell_type": "code",
   "execution_count": 60,
   "metadata": {},
   "outputs": [],
   "source": [
    "import matplotlib.pyplot as plt\n",
    "import numpy as np\n",
    "import wave\n",
    "import sys\n",
    "import pyaudio\n",
    "import scipy\n",
    "import lcapy as lc\n",
    "from lcapy.discretetime import z"
   ]
  },
  {
   "cell_type": "code",
   "execution_count": null,
   "metadata": {},
   "outputs": [],
   "source": [
    "def playAudio():\n",
    "    #function for playing audio\n",
    "    filename = WAVE_OUTPUT_FILENAME\n",
    "\n",
    "    # Set chunk size of 1024 samples per data frame\n",
    "    chunk = 1024  \n",
    "\n",
    "    # Open the sound file \n",
    "    wf = wave.open(filename, 'rb')\n",
    "\n",
    "    # Create an interface to PortAudio\n",
    "    p = pyaudio.PyAudio()\n",
    "\n",
    "    # Open a .Stream object to write the WAV file to\n",
    "    # 'output = True' indicates that the sound will be played rather than recorded\n",
    "    stream = p.open(format = p.get_format_from_width(wf.getsampwidth()),\n",
    "                    channels = wf.getnchannels(),\n",
    "                    rate = wf.getframerate(),\n",
    "                    output = True)\n",
    "\n",
    "    # Read data in chunks\n",
    "    data = wf.readframes(chunk)\n",
    "\n",
    "    # Play the sound by writing the audio data to the stream\n",
    "    while data != '':\n",
    "        stream.write(data)\n",
    "        data = wf.readframes(chunk)\n",
    "\n",
    "    # Close and terminate the stream\n",
    "    stream.close()\n",
    "    p.terminate()"
   ]
  },
  {
   "cell_type": "code",
   "execution_count": 92,
   "metadata": {},
   "outputs": [],
   "source": [
    "def recordAudio():\n",
    "    save_rep = input('Do you want to save your audio in a new file (could be useful for offline processing? (Y/N)\\n')\n",
    "    if save_rep == 'Y' or save_rep == 'y':\n",
    "        filename = input('What do you want the audio file name to be? {format: <entername>.wav}\\n ')\n",
    "    else:\n",
    "        filename = \"input.wav\"\n",
    "    secs = int(input(\"How long do you want the input to be (in seconds)?\\n\")) \n",
    "    CHUNK = 1024\n",
    "    FORMAT = pyaudio.paInt16\n",
    "    CHANNELS = 1\n",
    "    RATE = 44100\n",
    "    RECORD_SECONDS = secs\n",
    "    WAVE_OUTPUT_FILENAME = filename\n",
    "    p = pyaudio.PyAudio()\n",
    "\n",
    "    stream = p.open(format=FORMAT,\n",
    "                    channels=CHANNELS,\n",
    "                    rate=RATE,\n",
    "                    input=True,\n",
    "                    frames_per_buffer=CHUNK)\n",
    "\n",
    "    print(\"* recording\")\n",
    "\n",
    "    frames = []\n",
    "\n",
    "    for i in range(0, int(RATE / CHUNK * RECORD_SECONDS)):\n",
    "        data = stream.read(CHUNK)\n",
    "        frames.append(data)\n",
    "        \n",
    "\n",
    "    print(\"Audio recorded!\")\n",
    "\n",
    "    stream.stop_stream()\n",
    "    stream.close()\n",
    "    p.terminate()\n",
    "\n",
    "    wf = wave.open(WAVE_OUTPUT_FILENAME, 'wb')\n",
    "    wf.setnchannels(CHANNELS)\n",
    "    wf.setsampwidth(p.get_sample_size(FORMAT))\n",
    "    wf.setframerate(RATE)\n",
    "    wf.writeframes(b''.join(frames))\n",
    "    wf.close()\n",
    "\n",
    "    print(\"Here's a plot of your raw input!\")\n",
    "    spf = wave.open(WAVE_OUTPUT_FILENAME, 'r')\n",
    "\n",
    "    #Extract Raw Audio from Wav File\n",
    "    signal = spf.readframes(-1)\n",
    "    signal = np.fromstring(signal, 'Int16')\n",
    "\n",
    "    plt.figure(1)\n",
    "    plt.title('Signal Wave')\n",
    "    plt.plot(signal)\n",
    "    s = input('continue?' )\n",
    "    return signal"
   ]
  },
  {
   "cell_type": "code",
   "execution_count": 110,
   "metadata": {},
   "outputs": [],
   "source": [
    "#LCCDE coeffs\n",
    "def HzLCCDE():\n",
    "    print('I am assuming that this system is LTI\\n')\n",
    "    a_k = []\n",
    "    b_m = []\n",
    "    ylen = int(input('Enter lenght of y[k] (starting with y[n] and going up to the last non-zero coeff of y[k]): '))\n",
    "    for i in range(0, ylen):\n",
    "        p = int(input())\n",
    "        a_k.append(p) #append the ith coeff of y[k] to the list of coeffs of y[k]\n",
    "    xlen = int(input('Enter lenght of x[m] (starting with x[n] and going up to the last non-zero coeff of x[m]): '))\n",
    "    for i in range(0, xlen):\n",
    "        p = int(input())\n",
    "        b_m.append(p) #append the ith coeff of x[m] to thr list of coeffs of x[m]\n",
    "    l = np.maximum(ylen,xlen)  \n",
    "    print(l)\n",
    "    x_n = recordAudio()\n",
    "    N = len(x_n)\n",
    "    y_n = np.zeros(N)\n",
    "    for i in range(l,N):\n",
    "        for k in range (1, ylen):\n",
    "            y_n[i] -= a_k[k]*y_n[i-k]\n",
    "        for m in range (0, xlen):\n",
    "            y_n[i] += b_m[k]*x_n[i-k]\n",
    "        y_n[i] = y_n[i]/a_k[0]\n",
    "        \n",
    "    p = pyaudio.PyAudio()\n",
    "    \n",
    "    wf = wave.open('output.wav', 'wb')\n",
    "    wf.setnchannels(1)\n",
    "    wf.setsampwidth(p.get_sample_size(pyaudio.paInt16))\n",
    "    wf.setframerate(44100)\n",
    "    wf.writeframes(b''.join(y_n))\n",
    "    wf.close()\n",
    "\n",
    "    print(\"Here's a plot of your filtered output!\")\n",
    "    spf = wave.open('output.wav', 'r')\n",
    "\n",
    "    #Extract Raw Audio from Wav File\n",
    "    signal = spf.readframes(-1)\n",
    "    signal = np.fromstring(signal, 'Int16')\n",
    "\n",
    "    plt.figure(1)\n",
    "    plt.title('Output Signal Wave')\n",
    "    plt.plot(signal) "
   ]
  },
  {
   "cell_type": "code",
   "execution_count": 105,
   "metadata": {},
   "outputs": [],
   "source": [
    "#poles-zeros of H(z)\n",
    "def HzPoleZero():\n",
    "    zeros = []\n",
    "    poles = []\n",
    "    a = int(input('Enter number of zeros: '))\n",
    "    for i in range(0, a):\n",
    "        p = int(input())\n",
    "        zeros.append(p) #append the ith zero to the list of zeros\n",
    "\n",
    "    b = int(input('Enter number of poles: '))\n",
    "    for j in range(0, b):\n",
    "        k = int(input())\n",
    "        poles.append(k) #append the jth pole to the list of poles\n",
    "    num = np.poly1d(zeros, True, variable = 'z')\n",
    "    print(num)\n",
    "    den = np.poly1d(poles, True, variable = 'z')\n",
    "    print(den)\n",
    "    return [num/den]\n"
   ]
  },
  {
   "cell_type": "code",
   "execution_count": 106,
   "metadata": {},
   "outputs": [],
   "source": [
    "#impulse response\n",
    "def HzImpulseResponse():\n",
    "    N = int(input('What is the length of your impulse response h[n]? : '))\n",
    "    h_n = []\n",
    "    d_n = [1]\n",
    "    print('Please enter the values of h[t], starting from 0 and going to N-1:\\n')\n",
    "    for i in range(0, N):\n",
    "        p = int(input())\n",
    "        h_n.append(p) #append the ith impulse to the list of impulses\n",
    "    #forming a series d[n], to obtain z^N as the denominator \n",
    "    for j in range(0,N-1):\n",
    "        d_n.append(0) #append a zero to d[n]\n",
    "    print('h[n] = ', h_n)\n",
    "    num = np.poly1d(h_n, variable = 'z')\n",
    "    print(num)\n",
    "    den = np.poly1d(d_n, variable = 'z')\n",
    "    print(den)\n",
    "    return [num/den]\n",
    "    "
   ]
  },
  {
   "cell_type": "code",
   "execution_count": 107,
   "metadata": {},
   "outputs": [
    {
     "name": "stdout",
     "output_type": "stream",
     "text": [
      "Please enter your name:\n",
      "Shivangi\n",
      "Hey Shivangi !\n",
      "Thanks for using my audio filtering platform!\n",
      "Let's start by designing our filter\n",
      "\n",
      "Would you like to design your own filter using,\n",
      "A. LCCDE coefficients?\n",
      "B. poles and zeros of transfer function H(z)?\n",
      "C. impulse response h[n]?\n",
      "A\n"
     ]
    }
   ],
   "source": [
    "#ask for name, to personalize the user experience\n",
    "user_name = input('Please enter your name:\\n')\n",
    "print('Hey',user_name,'!')\n",
    "print('Thanks for using my audio filtering platform!')\n",
    "print(\"Let's start by designing our filter\\n\")\n",
    "#ask the user what type of input they want to use\n",
    "option = input(\"Would you like to design your own filter using,\\nA. LCCDE coefficients?\\nB. poles and zeros of transfer function H(z)?\\nC. impulse response h[n]?\\n\")"
   ]
  },
  {
   "cell_type": "code",
   "execution_count": 111,
   "metadata": {},
   "outputs": [
    {
     "name": "stdout",
     "output_type": "stream",
     "text": [
      "I am assuming that this system is LTI\n",
      "\n",
      "Enter lenght of y[k] (starting with y[n] and going up to the last non-zero coeff of y[k]): 4\n",
      "1\n",
      "2\n",
      "2\n",
      "1\n",
      "Enter lenght of x[m] (starting with x[n] and going up to the last non-zero coeff of x[m]): 4\n",
      "1\n",
      "2\n",
      "2\n",
      "1\n",
      "4\n",
      "Do you want to save your audio in a new file (could be useful for offline processing? (Y/N)\n",
      "n\n",
      "How long do you want the input to be (in seconds)?\n",
      "5\n",
      "* recording\n"
     ]
    },
    {
     "name": "stderr",
     "output_type": "stream",
     "text": [
      "/home/randomshit/.local/lib/python3.6/site-packages/ipykernel_launcher.py:49: DeprecationWarning: Numeric-style type codes are deprecated and will result in an error in the future.\n",
      "/home/randomshit/.local/lib/python3.6/site-packages/ipykernel_launcher.py:49: DeprecationWarning: The binary mode of fromstring is deprecated, as it behaves surprisingly on unicode inputs. Use frombuffer instead\n"
     ]
    },
    {
     "name": "stdout",
     "output_type": "stream",
     "text": [
      "Audio recorded!\n",
      "Here's a plot of your raw input!\n",
      "continue?y\n"
     ]
    },
    {
     "name": "stderr",
     "output_type": "stream",
     "text": [
      "Exception ignored in: <bound method Wave_write.__del__ of <wave.Wave_write object at 0x7f72ead59a58>>\n",
      "Traceback (most recent call last):\n",
      "  File \"/usr/lib/python3.6/wave.py\", line 316, in __del__\n",
      "    self.close()\n",
      "  File \"/usr/lib/python3.6/wave.py\", line 434, in close\n",
      "    self._ensure_header_written(0)\n",
      "  File \"/usr/lib/python3.6/wave.py\", line 454, in _ensure_header_written\n",
      "    raise Error('sample width not specified')\n",
      "wave.Error: sample width not specified\n"
     ]
    },
    {
     "name": "stdout",
     "output_type": "stream",
     "text": [
      "Here's a plot of your filtered output!\n"
     ]
    },
    {
     "name": "stderr",
     "output_type": "stream",
     "text": [
      "/home/randomshit/.local/lib/python3.6/site-packages/ipykernel_launcher.py:40: DeprecationWarning: Numeric-style type codes are deprecated and will result in an error in the future.\n",
      "/home/randomshit/.local/lib/python3.6/site-packages/ipykernel_launcher.py:40: DeprecationWarning: The binary mode of fromstring is deprecated, as it behaves surprisingly on unicode inputs. Use frombuffer instead\n"
     ]
    },
    {
     "data": {
      "image/png": "[encoded data removed]",
      "text/plain": [
       "<Figure size 432x288 with 1 Axes>"
      ]
     },
     "metadata": {
      "needs_background": "light"
     },
     "output_type": "display_data"
    }
   ],
   "source": [
    "#main block for constructing the filter\n",
    "Hz = np.poly1d(1)\n",
    "if option == 'A' or option == 'a':\n",
    "    HzLCCDE()\n",
    "    Hz = 0\n",
    "elif option == 'B' or option == 'b':\n",
    "    Hz = HzPoleZero()\n",
    "elif option == 'C' or option == 'c':\n",
    "    Hz = HzImpulseResponse()\n",
    "else:\n",
    "    option = input('Enter a valid option (A/B/C)')\n"
   ]
  },
  {
   "cell_type": "markdown",
   "metadata": {},
   "source": [
    "## input_stream = recordAudio(Hz)"
   ]
  },
  {
   "cell_type": "code",
   "execution_count": null,
   "metadata": {},
   "outputs": [],
   "source": []
  }
 ],
 "metadata": {
  "kernelspec": {
   "display_name": "Python 3",
   "language": "python",
   "name": "python3"
  },
  "language_info": {
   "codemirror_mode": {
    "name": "ipython",
    "version": 3
   },
   "file_extension": ".py",
   "mimetype": "text/x-python",
   "name": "python",
   "nbconvert_exporter": "python",
   "pygments_lexer": "ipython3",
   "version": "3.6.9"
  }
 },
 "nbformat": 4,
 "nbformat_minor": 2
}
