{
 "cells": [
  {
   "cell_type": "code",
   "execution_count": 31,
   "metadata": {},
   "outputs": [],
   "source": [
    "import matplotlib.pyplot as plt\n",
    "import numpy as np\n",
    "import wave\n",
    "import sys\n",
    "import pyaudio\n",
    "import scipy"
   ]
  },
  {
   "cell_type": "code",
   "execution_count": 25,
   "metadata": {},
   "outputs": [
    {
     "name": "stdout",
     "output_type": "stream",
     "text": [
      "Please enter your nameboo\n"
     ]
    }
   ],
   "source": [
    "#ask for name, to personalize the user experience\n",
    "user_name = input('Please enter your name')"
   ]
  },
  {
   "cell_type": "code",
   "execution_count": 26,
   "metadata": {},
   "outputs": [
    {
     "name": "stdout",
     "output_type": "stream",
     "text": [
      "Hello boo \n",
      "Thanks for using my audio filtering tool :)\n",
      "Let's get started!\n",
      "\n",
      "Would you like to design your own filter using ,\n",
      "A.LCCDE coefficients?\n",
      "B. poles and zeros of transfer function H(z)?\n",
      "C. impulse response h[n]?\n",
      "(or D. You can look at a demo of some of the popular filters in the industry\n",
      "A\n"
     ]
    }
   ],
   "source": [
    "print(\"Hello\",user_name,\"\\nThanks for using my audio filtering tool :)\")\n",
    "print(\"Let's get started!\\n\")\n",
    "\n",
    "#ask the user what type of input they want to use\n",
    "option = input(\"Would you like to design your own filter using ,\\nA.LCCDE coefficients?\\nB. poles and zeros of transfer function H(z)?\\nC. impulse response h[n]?\\n(or D. You can look at a demo of some of the popular filters in the industry\\n\")"
   ]
  },
  {
   "cell_type": "code",
   "execution_count": 27,
   "metadata": {},
   "outputs": [
    {
     "name": "stdout",
     "output_type": "stream",
     "text": [
      "Cool! lesgoooo\n"
     ]
    }
   ],
   "source": [
    "#main block for constructing the filter\n",
    "if option == 'A' or option == 'a':\n",
    "    print(\"Cool! lesgoooo\")\n",
    "elif option == 'B' or option == 'b':\n",
    "    print(\"meh\")\n",
    "elif option == 'C' or option == 'c':\n",
    "    print(\"butt\")\n",
    "elif option == 'D' or option == 'd':\n",
    "    print(\"i'm not sleepy\")\n",
    "else:\n",
    "    option = input('Enter a valid option (A/B/C/D)')"
   ]
  },
  {
   "cell_type": "code",
   "execution_count": 30,
   "metadata": {},
   "outputs": [
    {
     "name": "stdout",
     "output_type": "stream",
     "text": [
      "Oh wait, let's start with taking your audio input\n",
      "Run the next cell to give input\n"
     ]
    }
   ],
   "source": [
    "print(\"Oh wait, let's start with taking your audio input\\nRun the next cell to give input\")"
   ]
  },
  {
   "cell_type": "code",
   "execution_count": 48,
   "metadata": {},
   "outputs": [
    {
     "name": "stdout",
     "output_type": "stream",
     "text": [
      "Oh wait! do you want to save your audio in a new file? (Y/N)\n",
      "Y\n",
      "How long do you want the input to be (in seconds)?\n",
      "3\n"
     ]
    }
   ],
   "source": [
    "save_rep = input('Oh wait! do you want to save your audio in a new file? (Y/N)\\n')\n",
    "if save_rep == 'Y' or save_red == 'y':\n",
    "    WAVE_OUTPUT_FILENAME = \"savedfile.wav\"\n",
    "else:\n",
    "    WAVE_OUTPUT_FILENAME = \"output.wav\"\n",
    "secs = int(input(\"How long do you want the input to be (in seconds)?\\n\")) "
   ]
  },
  {
   "cell_type": "code",
   "execution_count": 49,
   "metadata": {},
   "outputs": [
    {
     "name": "stdout",
     "output_type": "stream",
     "text": [
      "* recording\n",
      "Audio recorded!\n",
      "Now let's move on to filtering the output!\n"
     ]
    },
    {
     "name": "stderr",
     "output_type": "stream",
     "text": [
      "/home/randomshit/.local/lib/python3.6/site-packages/ipykernel_launcher.py:41: DeprecationWarning: Numeric-style type codes are deprecated and will result in an error in the future.\n",
      "/home/randomshit/.local/lib/python3.6/site-packages/ipykernel_launcher.py:41: DeprecationWarning: The binary mode of fromstring is deprecated, as it behaves surprisingly on unicode inputs. Use frombuffer instead\n"
     ]
    },
    {
     "data": {
      "text/plain": [
       "[<matplotlib.lines.Line2D at 0x7fae17091978>]"
      ]
     },
     "execution_count": 49,
     "metadata": {},
     "output_type": "execute_result"
    },
    {
     "data": {
      "image/png": "[encoded data removed]",
      "text/plain": [
       "<Figure size 432x288 with 1 Axes>"
      ]
     },
     "metadata": {
      "needs_background": "light"
     },
     "output_type": "display_data"
    }
   ],
   "source": [
    "CHUNK = 1024\n",
    "FORMAT = pyaudio.paInt16\n",
    "CHANNELS = 2\n",
    "RATE = 44100\n",
    "RECORD_SECONDS = secs\n",
    "\n",
    "p = pyaudio.PyAudio()\n",
    "\n",
    "stream = p.open(format=FORMAT,\n",
    "                channels=CHANNELS,\n",
    "                rate=RATE,\n",
    "                input=True,\n",
    "                frames_per_buffer=CHUNK)\n",
    "\n",
    "print(\"* recording\")\n",
    "\n",
    "frames = []\n",
    "\n",
    "for i in range(0, int(RATE / CHUNK * RECORD_SECONDS)):\n",
    "    data = stream.read(CHUNK)\n",
    "    frames.append(data)\n",
    "\n",
    "print(\"Audio recorded!\")\n",
    "\n",
    "stream.stop_stream()\n",
    "stream.close()\n",
    "p.terminate()\n",
    "\n",
    "wf = wave.open(WAVE_OUTPUT_FILENAME, 'wb')\n",
    "wf.setnchannels(CHANNELS)\n",
    "wf.setsampwidth(p.get_sample_size(FORMAT))\n",
    "wf.setframerate(RATE)\n",
    "wf.writeframes(b''.join(frames))\n",
    "wf.close()\n",
    "\n",
    "#sleep for a few secs?\n",
    "\n",
    "play = input(\"Want to listen to your raw input? (Y/N)\\n\")\n",
    "\n",
    "if play == 'Y' or play == 'y':\n",
    "    #play audio code here\n",
    "\n",
    "#sleep\n",
    "print(\"Here's a plot of your raw input!\")\n",
    "spf = wave.open(WAVE_OUTPUT_FILENAME, 'r')\n",
    "\n",
    "#Extract Raw Audio from Wav File\n",
    "signal = spf.readframes(-1)\n",
    "signal = np.fromstring(signal, 'Int16')\n",
    "\n",
    "plt.figure(1)\n",
    "plt.title('Signal Wave...')\n",
    "plt.plot(signal)\n",
    "\n"
   ]
  }
 ],
 "metadata": {
  "kernelspec": {
   "display_name": "Python 3",
   "language": "python",
   "name": "python3"
  },
  "language_info": {
   "codemirror_mode": {
    "name": "ipython",
    "version": 3
   },
   "file_extension": ".py",
   "mimetype": "text/x-python",
   "name": "python",
   "nbconvert_exporter": "python",
   "pygments_lexer": "ipython3",
   "version": "3.6.9"
  }
 },
 "nbformat": 4,
 "nbformat_minor": 2
}
